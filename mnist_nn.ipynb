{
 "cells": [
  {
   "cell_type": "markdown",
   "metadata": {},
   "source": [
    "# MNIST Classification with a Neural Network\n",
    "***\n",
    "In this script, a neural network consisting of **one input layer (784 Neurons), three hidden layers (128/72/72 Neurons), and one output layer (10 Neurons)**. \n",
    "The input are the grayscale pixel values of 28x28 images of handwritten digits. The output neurons indicate to which of the 10 digit classes (0 - 9) the input is expected to belong. The network is trained in a classic stochastic gradient descent manner, with sigmoids as activation functions and the sum of squared errors of prediction (SSE) is the loss function which is optimised."
   ]
  },
  {
   "cell_type": "code",
   "execution_count": 1,
   "metadata": {},
   "outputs": [],
   "source": [
    "import numpy as np\n",
    "from numpy import genfromtxt\n",
    "import matplotlib.pyplot as plt\n",
    "%matplotlib inline"
   ]
  },
  {
   "cell_type": "code",
   "execution_count": 2,
   "metadata": {},
   "outputs": [],
   "source": [
    "eta = 0.01 # Learning rate\n",
    "#Initialise the five weight matrices (784/128/72 + Bias Unit)\n",
    "W1 = np.random.uniform(-1, 1, (785, 128))\n",
    "W2 = np.random.uniform(-1, 1, (129, 72))\n",
    "W3 = np.random.uniform(-1, 1, (73, 72))\n",
    "W4 = np.random.uniform(-1, 1, (73, 72))\n",
    "W5 = np.random.uniform(-1, 1, (73, 10))"
   ]
  },
  {
   "cell_type": "markdown",
   "metadata": {},
   "source": [
    "First, we define the required functions"
   ]
  },
  {
   "cell_type": "code",
   "execution_count": 3,
   "metadata": {},
   "outputs": [],
   "source": [
    "def activation(x):\n",
    "    x = np.clip(x, -500, 500)\n",
    "    return 1/(1+np.exp(-x))\n",
    "def d_activation(x):\n",
    "    y = activation(x)\n",
    "    return y*(1-y)\n",
    "def d_error(y_hat, y):\n",
    "    return (y_hat-y)"
   ]
  },
  {
   "cell_type": "markdown",
   "metadata": {},
   "source": [
    "A forward pass consists of matrix-multiplication of the respective weight matrix and the previous output, followed by a pointwise activation"
   ]
  },
  {
   "cell_type": "code",
   "execution_count": 4,
   "metadata": {},
   "outputs": [],
   "source": [
    "def forward_pass(x):\n",
    "    x = np.append(x, 1)\n",
    "    sum1 = np.dot(x, W1)\n",
    "    ac1 = activation(sum1)\n",
    "    ac1 = np.append(ac1, 1)\n",
    "    sum2 = np.dot(ac1, W2)\n",
    "    ac2 = activation(sum2)\n",
    "    ac2 = np.append(ac2, 1)\n",
    "    sum3 = np.dot(ac2, W3)\n",
    "    ac3 = activation(sum3)\n",
    "    ac3 = np.append(ac3, 1)\n",
    "    sum4 = np.dot(ac3, W4)\n",
    "    ac4 = activation(sum4)\n",
    "    ac4 = np.append(ac4, 1)\n",
    "    sum5 = np.dot(ac4, W5)\n",
    "    y_hat = activation(sum5)\n",
    "\n",
    "    return sum1, ac1, sum2, ac2, sum3, ac3, sum4, ac4, sum5, y_hat"
   ]
  },
  {
   "cell_type": "markdown",
   "metadata": {},
   "source": [
    "We can define the **delta functions** for the neurons (except for the input layer) which enables us to define a backward pass again in the form of a vector multiplication"
   ]
  },
  {
   "cell_type": "code",
   "execution_count": 5,
   "metadata": {},
   "outputs": [],
   "source": [
    "def calc_delta5(sum5, y_hat, y_vector):\n",
    "    delta = np.zeros((10,))\n",
    "    for i, y in enumerate(y_vector):\n",
    "        delta[i] = d_error(y_hat[i], y)*d_activation(sum5[i])\n",
    "    return delta\n",
    "def calc_delta4(sum4, delta5):\n",
    "    delta = np.dot(W5[:-1][:], delta5)*d_activation(sum4)\n",
    "    return delta\n",
    "\n",
    "def calc_delta3(sum3, delta4):\n",
    "    delta = np.dot(W4[:-1][:], delta4)*d_activation(sum3)\n",
    "    return delta\n",
    "\n",
    "def calc_delta2(sum2, delta3):\n",
    "    delta = np.dot(W3[:-1][:], delta3)*d_activation(sum2)\n",
    "    return delta\n",
    "\n",
    "def calc_delta1(sum1, delta2):\n",
    "    delta = np.dot(W2[:-1][:], delta2)*d_activation(sum1)\n",
    "    return delta    "
   ]
  },
  {
   "cell_type": "markdown",
   "metadata": {},
   "source": [
    "By using these delta functions, the backward pass is just the consecutive application of the outer product between the previous activation and the respective delta functions "
   ]
  },
  {
   "cell_type": "code",
   "execution_count": 6,
   "metadata": {},
   "outputs": [],
   "source": [
    "def backward_pass(x, ac1, ac2, ac3, ac4, sum1, sum2, sum3, sum4, sum5, y_hat, y):\n",
    "    x = np.append(x, 1)\n",
    "    \n",
    "    delta5 = calc_delta5(sum5, y_hat, y)\n",
    "    delta4 = calc_delta4(sum4, delta5)\n",
    "    delta3 = calc_delta3(sum3, delta4)    \n",
    "    delta2 = calc_delta2(sum2, delta3)    \n",
    "    delta1 = calc_delta1(sum1, delta2)\n",
    "    \n",
    "    dW5 = np.outer(ac4, delta5)  \n",
    "    dW4 = np.outer(ac3, delta4)      \n",
    "    dW3 = np.outer(ac2, delta3)  \n",
    "    dW2 = np.outer(ac1, delta2)\n",
    "    dW1 = np.outer(x, delta1)\n",
    "    \n",
    "    return dW1, dW2, dW3, dW4, dW5"
   ]
  },
  {
   "cell_type": "markdown",
   "metadata": {},
   "source": [
    "We use the simplest method of updating the weights"
   ]
  },
  {
   "cell_type": "code",
   "execution_count": 7,
   "metadata": {},
   "outputs": [],
   "source": [
    "def update_weights(dW1, dW2, dW3, dW4, dW5):\n",
    "    global W1, W2, W3, W4, W5\n",
    "    W1 = W1 - eta*dW1\n",
    "    W2 = W2 - eta*dW2\n",
    "    W3 = W3 - eta*dW3\n",
    "    W4 = W4 - eta*dW4\n",
    "    W5 = W5 - eta*dW5"
   ]
  },
  {
   "cell_type": "code",
   "execution_count": 8,
   "metadata": {},
   "outputs": [],
   "source": [
    "def calc_y(label):\n",
    "    return np.identity(10)[int(label)]\n",
    "def calc_y_hat(y_hat):\n",
    "    return np.argmax(y_hat)"
   ]
  },
  {
   "cell_type": "markdown",
   "metadata": {},
   "source": [
    "Now, we can import some data"
   ]
  },
  {
   "cell_type": "code",
   "execution_count": 9,
   "metadata": {},
   "outputs": [],
   "source": [
    "my_data = genfromtxt('mnist_train.csv', delimiter=',')"
   ]
  },
  {
   "cell_type": "code",
   "execution_count": 10,
   "metadata": {},
   "outputs": [],
   "source": [
    "my_data_test = genfromtxt('mnist_test.csv', delimiter=',')"
   ]
  },
  {
   "cell_type": "code",
   "execution_count": 11,
   "metadata": {},
   "outputs": [],
   "source": [
    "data_train = my_data[:, 1:]\n",
    "data_label = my_data[:, 0]\n",
    "data_test = my_data_test[:, 1:]\n",
    "data_test_label = my_data_test[:, 0]"
   ]
  },
  {
   "cell_type": "markdown",
   "metadata": {},
   "source": [
    "# Training\n",
    "***\n",
    "In the training phase, we run over the data set 50-times and update the weights after each forward/backward pass (stochastic gradient descent)."
   ]
  },
  {
   "cell_type": "code",
   "execution_count": 12,
   "metadata": {},
   "outputs": [],
   "source": [
    "for j in range(50):\n",
    "    for i in range(len(data_train)):\n",
    "        data_x = data_train[i, :]\n",
    "        data_y = calc_y(data_label[i])\n",
    "        sum1, ac1, sum2, ac2, sum3, ac3, sum4, ac4, sum5, y_hat = forward_pass(data_x)\n",
    "        dW1, dW2, dW3, dW4, dW5 = backward_pass(data_x, ac1, ac2, ac3, ac4, sum1, sum2, sum3, sum4, sum5, y_hat, data_y)\n",
    "        update_weights(dW1, dW2, dW3, dW4, dW5)"
   ]
  },
  {
   "cell_type": "markdown",
   "metadata": {},
   "source": [
    "Finally, we can have a look how well our algorithm performs and create a confusion matrix to get a better overview over the result"
   ]
  },
  {
   "cell_type": "code",
   "execution_count": 13,
   "metadata": {},
   "outputs": [
    {
     "name": "stdout",
     "output_type": "stream",
     "text": [
      "acc 0.8934\n"
     ]
    },
    {
     "data": {
      "image/png": "[encoded data removed]",
      "text/plain": [
       "<matplotlib.figure.Figure at 0x7f43b049a278>"
      ]
     },
     "metadata": {},
     "output_type": "display_data"
    }
   ],
   "source": [
    "corr = 0 \n",
    "conf = np.zeros((10, 10))\n",
    "for i in range(len(data_test)):\n",
    "    data_x = data_test[i, :]\n",
    "    label = data_test_label[i]\n",
    "    _, _, _, _, _, _, _, _, _, y_hat = forward_pass(data_x)\n",
    "    label_hat = calc_y_hat(y_hat)\n",
    "    conf[int(label)][label_hat] += 1\n",
    "    if label == label_hat:\n",
    "        corr += 1\n",
    "acc = corr / len(data_test)\n",
    "print('acc', acc)\n",
    "\n",
    "plt.figure(figsize=(10, 7))\n",
    "plt.imshow(conf, cmap=plt.cm.jet)\n",
    "plt.show()"
   ]
  }
 ],
 "metadata": {
  "kernelspec": {
   "display_name": "Python 3",
   "language": "python",
   "name": "python3"
  },
  "language_info": {
   "codemirror_mode": {
    "name": "ipython",
    "version": 3
   },
   "file_extension": ".py",
   "mimetype": "text/x-python",
   "name": "python",
   "nbconvert_exporter": "python",
   "pygments_lexer": "ipython3",
   "version": "3.6.4"
  }
 },
 "nbformat": 4,
 "nbformat_minor": 2
}
